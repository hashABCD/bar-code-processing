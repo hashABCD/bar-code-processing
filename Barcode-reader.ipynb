{
 "cells": [
  {
   "cell_type": "markdown",
   "metadata": {},
   "source": [
    "# Read barcode using python"
   ]
  },
  {
   "cell_type": "markdown",
   "metadata": {},
   "source": [
    "### Prerequisites \n",
    "* pyzbar\n",
    "* opencv"
   ]
  },
  {
   "cell_type": "raw",
   "metadata": {},
   "source": [
    "pip install opencv-python\n",
    "pip install pyzbar"
   ]
  },
  {
   "cell_type": "code",
   "execution_count": 1,
   "metadata": {
    "ExecuteTime": {
     "end_time": "2024-08-25T20:45:38.901337Z",
     "start_time": "2024-08-25T20:45:38.376489Z"
    }
   },
   "outputs": [],
   "source": [
    "# Import libraries \n",
    "import cv2\n",
    "from pyzbar.pyzbar import decode"
   ]
  },
  {
   "cell_type": "code",
   "execution_count": 46,
   "metadata": {
    "ExecuteTime": {
     "end_time": "2024-08-25T22:23:09.045815Z",
     "start_time": "2024-08-25T22:23:09.030187Z"
    }
   },
   "outputs": [],
   "source": [
    "# Path to images\n",
    "barcode_jpg = \"images/product_needle.jpg\"       \n",
    "barcode_png = \"images/wikipedia_barcode.png\""
   ]
  },
  {
   "cell_type": "code",
   "execution_count": 49,
   "metadata": {
    "ExecuteTime": {
     "end_time": "2024-08-25T22:23:57.475393Z",
     "start_time": "2024-08-25T22:23:57.428516Z"
    }
   },
   "outputs": [],
   "source": [
    "# Read images using Open-cv\n",
    "img = cv2.imread(barcode_jpg)    #barcode of a product \n",
    "img = cv2.imread(barcode_png)    #barcode of wikipedia"
   ]
  },
  {
   "cell_type": "code",
   "execution_count": 50,
   "metadata": {
    "ExecuteTime": {
     "end_time": "2024-08-25T22:23:58.878527Z",
     "start_time": "2024-08-25T22:23:58.862901Z"
    }
   },
   "outputs": [
    {
     "ename": "error",
     "evalue": "OpenCV(4.2.0) C:\\projects\\opencv-python\\opencv\\modules\\highgui\\src\\window.cpp:376: error: (-215:Assertion failed) size.width>0 && size.height>0 in function 'cv::imshow'\n",
     "output_type": "error",
     "traceback": [
      "\u001b[1;31m---------------------------------------------------------------------------\u001b[0m",
      "\u001b[1;31merror\u001b[0m                                     Traceback (most recent call last)",
      "\u001b[1;32m<ipython-input-50-72e65c9e94b2>\u001b[0m in \u001b[0;36m<module>\u001b[1;34m\u001b[0m\n\u001b[0;32m      1\u001b[0m \u001b[1;31m# Show barcode image\u001b[0m\u001b[1;33m\u001b[0m\u001b[1;33m\u001b[0m\u001b[1;33m\u001b[0m\u001b[0m\n\u001b[1;32m----> 2\u001b[1;33m \u001b[0mcv2\u001b[0m\u001b[1;33m.\u001b[0m\u001b[0mimshow\u001b[0m\u001b[1;33m(\u001b[0m\u001b[1;34m\"Bar code\"\u001b[0m\u001b[1;33m,\u001b[0m \u001b[0mimg\u001b[0m\u001b[1;33m)\u001b[0m\u001b[1;33m\u001b[0m\u001b[1;33m\u001b[0m\u001b[0m\n\u001b[0m\u001b[0;32m      3\u001b[0m \u001b[0mcv2\u001b[0m\u001b[1;33m.\u001b[0m\u001b[0mwaitKey\u001b[0m\u001b[1;33m(\u001b[0m\u001b[1;36m0\u001b[0m\u001b[1;33m)\u001b[0m\u001b[1;33m\u001b[0m\u001b[1;33m\u001b[0m\u001b[0m\n\u001b[0;32m      4\u001b[0m \u001b[0mcv2\u001b[0m\u001b[1;33m.\u001b[0m\u001b[0mdestroyAllWindows\u001b[0m\u001b[1;33m(\u001b[0m\u001b[1;33m)\u001b[0m\u001b[1;33m\u001b[0m\u001b[1;33m\u001b[0m\u001b[0m\n",
      "\u001b[1;31merror\u001b[0m: OpenCV(4.2.0) C:\\projects\\opencv-python\\opencv\\modules\\highgui\\src\\window.cpp:376: error: (-215:Assertion failed) size.width>0 && size.height>0 in function 'cv::imshow'\n"
     ]
    }
   ],
   "source": [
    "# Show barcode image\n",
    "cv2.imshow(\"Bar code\", img)\n",
    "cv2.waitKey(0)\n",
    "cv2.destroyAllWindows()"
   ]
  },
  {
   "cell_type": "code",
   "execution_count": 45,
   "metadata": {
    "ExecuteTime": {
     "end_time": "2024-08-25T22:19:38.454761Z",
     "start_time": "2024-08-25T22:19:38.423516Z"
    }
   },
   "outputs": [
    {
     "name": "stdout",
     "output_type": "stream",
     "text": [
      "DATA : Wikipedia\n",
      "TYPE : CODE128\n",
      "\n",
      "Complete decoded data : [Decoded(data=b'Wikipedia', type='CODE128', rect=Rect(left=39, top=14, width=657, height=353), polygon=[Point(x=39, y=15), Point(x=39, y=367), Point(x=696, y=366), Point(x=696, y=14)], quality=354, orientation='UP')]\n"
     ]
    }
   ],
   "source": [
    "# Decode barcodes \n",
    "barcodes = decode(img)\n",
    "\n",
    "# Extract information \n",
    "for b in barcodes:\n",
    "    barcode_data = b.data.decode(\"utf-8\")\n",
    "    barcode_type = b.type\n",
    "    print(f\"DATA : {barcode_data}\\nTYPE : {barcode_type}\")\n",
    "    print(f\"\\nComplete decoded data : {barcodes}\")"
   ]
  },
  {
   "cell_type": "code",
   "execution_count": 32,
   "metadata": {
    "ExecuteTime": {
     "end_time": "2024-08-25T21:19:04.373156Z",
     "start_time": "2024-08-25T21:19:04.345996Z"
    }
   },
   "outputs": [
    {
     "data": {
      "text/plain": [
       "Rect(left=29, top=68, width=479, height=253)"
      ]
     },
     "execution_count": 32,
     "metadata": {},
     "output_type": "execute_result"
    }
   ],
   "source": [
    "barcodes[0].rect"
   ]
  },
  {
   "cell_type": "code",
   "execution_count": null,
   "metadata": {},
   "outputs": [],
   "source": []
  }
 ],
 "metadata": {
  "kernelspec": {
   "display_name": "Python 3",
   "language": "python",
   "name": "python3"
  },
  "language_info": {
   "codemirror_mode": {
    "name": "ipython",
    "version": 3
   },
   "file_extension": ".py",
   "mimetype": "text/x-python",
   "name": "python",
   "nbconvert_exporter": "python",
   "pygments_lexer": "ipython3",
   "version": "3.7.4"
  }
 },
 "nbformat": 4,
 "nbformat_minor": 2
}
